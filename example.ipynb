{
 "cells": [
  {
   "cell_type": "code",
   "execution_count": 1,
   "metadata": {},
   "outputs": [],
   "source": [
    "import numpy as np\n",
    "import tensorflow as tf\n",
    "import time\n",
    "from tqdm import tqdm"
   ]
  },
  {
   "cell_type": "markdown",
   "metadata": {},
   "source": [
    "# Load data"
   ]
  },
  {
   "cell_type": "code",
   "execution_count": 2,
   "metadata": {},
   "outputs": [],
   "source": [
    "from sklearn.preprocessing import scale\n",
    "from sklearn.model_selection import train_test_split\n",
    "from sklearn.metrics import roc_auc_score, accuracy_score\n",
    "\n",
    "mnist = tf.keras.datasets.mnist\n",
    "(X_tr, y_tr), (X_te, y_te) = mnist.load_data()\n",
    "\n",
    "X_tr = np.reshape(X_tr, [-1, 784])\n",
    "X_te = np.reshape(X_te, [-1, 784])\n",
    "\n",
    "n_three_tr, n_five_tr = sum(y_tr == 3), sum(y_tr == 5)\n",
    "\n",
    "X_tr_35 = np.vstack([\n",
    "    X_tr[y_tr == 3, :],\n",
    "    X_tr[y_tr == 5, :]\n",
    "]).astype(np.float32)\n",
    "y_tr_35 = np.array([1] * n_three_tr + [0] * n_five_tr)\n",
    "\n",
    "n_three_te, n_five_te = sum(y_te == 3), sum(y_te == 5)\n",
    "X_te_35 = np.vstack([\n",
    "    X_te[y_te == 3, :],\n",
    "    X_te[y_te == 5, :]\n",
    "]).astype(np.float32)\n",
    "y_te_35 = np.array([1] * n_three_te + [0] * n_five_te)\n",
    "\n",
    "X_tr_35 = X_tr_35 * (np.random.uniform(0, 1, X_tr_35.shape) > 0.8)\n",
    "X_te_35 = X_te_35 * (np.random.uniform(0, 1, X_te_35.shape) > 0.8)"
   ]
  },
  {
   "cell_type": "markdown",
   "metadata": {
    "collapsed": true
   },
   "source": [
    "# Baselines"
   ]
  },
  {
   "cell_type": "code",
   "execution_count": 3,
   "metadata": {},
   "outputs": [
    {
     "name": "stderr",
     "output_type": "stream",
     "text": [
      "/Users/Tamas.Jambor@kindredgroup.com/miniconda3/envs/py37/lib/python3.7/site-packages/sklearn/linear_model/_logistic.py:764: ConvergenceWarning: lbfgs failed to converge (status=1):\n",
      "STOP: TOTAL NO. of ITERATIONS REACHED LIMIT.\n",
      "\n",
      "Increase the number of iterations (max_iter) or scale the data as shown in:\n",
      "    https://scikit-learn.org/stable/modules/preprocessing.html\n",
      "Please also refer to the documentation for alternative solver options:\n",
      "    https://scikit-learn.org/stable/modules/linear_model.html#logistic-regression\n",
      "  extra_warning_msg=_LOGISTIC_SOLVER_CONVERGENCE_MSG)\n"
     ]
    },
    {
     "name": "stdout",
     "output_type": "stream",
     "text": [
      "model: LogisticRegression()\n",
      "accuracy: 0.8932702418506835\n",
      "\n",
      "model: RandomForestClassifier(n_estimators=200, n_jobs=-1)\n",
      "accuracy: 0.8932702418506835\n",
      "\n"
     ]
    }
   ],
   "source": [
    "from sklearn.linear_model import LogisticRegression\n",
    "from sklearn.ensemble import RandomForestClassifier\n",
    "for model in [\n",
    "                LogisticRegression(), \n",
    "                RandomForestClassifier(n_jobs=-1, n_estimators=200)\n",
    "            ]:\n",
    "    model.fit(X_tr_35, y_tr_35)\n",
    "    predictions = model.predict(X_te_35)\n",
    "    acc = accuracy_score(y_te_35, predictions)\n",
    "    print('model: {}'.format(model.__str__()))\n",
    "    print('accuracy: {}'.format(acc))\n",
    "    print()"
   ]
  },
  {
   "cell_type": "markdown",
   "metadata": {
    "collapsed": true
   },
   "source": [
    "# Dense example"
   ]
  },
  {
   "cell_type": "code",
   "execution_count": 12,
   "metadata": {},
   "outputs": [],
   "source": [
    "import sys\n",
    "sys.path.append(\"/Users/Tamas.Jambor@kindredgroup.com/code/tffm\")"
   ]
  },
  {
   "cell_type": "code",
   "execution_count": 6,
   "metadata": {},
   "outputs": [],
   "source": [
    "%load_ext autoreload\n",
    "%autoreload 2"
   ]
  },
  {
   "cell_type": "code",
   "execution_count": 5,
   "metadata": {},
   "outputs": [
    {
     "name": "stderr",
     "output_type": "stream",
     "text": [
      "100%|██████████| 50/50 [00:14<00:00,  3.40epoch/s]\n",
      "  0%|          | 0/50 [00:00<?, ?epoch/s]"
     ]
    },
    {
     "name": "stdout",
     "output_type": "stream",
     "text": [
      "[order=2] accuracy: 0.8937960042060988\n"
     ]
    },
    {
     "name": "stderr",
     "output_type": "stream",
     "text": [
      "100%|██████████| 50/50 [00:30<00:00,  1.67epoch/s]"
     ]
    },
    {
     "name": "stdout",
     "output_type": "stream",
     "text": [
      "[order=3] accuracy: 0.8958990536277602\n"
     ]
    },
    {
     "name": "stderr",
     "output_type": "stream",
     "text": [
      "\n"
     ]
    }
   ],
   "source": [
    "from tffm_tf2 import TFFMClassifier\n",
    "\n",
    "for order in [2, 3]:\n",
    "    model = TFFMClassifier(\n",
    "        order=order, \n",
    "        rank=10, \n",
    "        optimizer=tf.keras.optimizers.Adam(learning_rate=0.00001), \n",
    "        n_epochs=50, \n",
    "        batch_size=1024,\n",
    "        init_std=0.001,\n",
    "        reg=0.01,\n",
    "        input_type='dense',\n",
    "        seed=42\n",
    "    )\n",
    "    model.fit(X_tr_35, y_tr_35, show_progress=True)\n",
    "    predictions = model.predict(X_te_35)\n",
    "    print('[order={}] accuracy: {}'.format(order, accuracy_score(y_te_35, predictions)))\n",
    "    # this will close tf.Session and free resources\n"
   ]
  },
  {
   "cell_type": "markdown",
   "metadata": {},
   "source": [
    "# Regression example"
   ]
  },
  {
   "cell_type": "code",
   "execution_count": 10,
   "metadata": {},
   "outputs": [
    {
     "ename": "AttributeError",
     "evalue": "'TFFMRegressor' object has no attribute 'init_basemodel'",
     "output_type": "error",
     "traceback": [
      "\u001B[0;31m---------------------------------------------------------------------------\u001B[0m",
      "\u001B[0;31mAttributeError\u001B[0m                            Traceback (most recent call last)",
      "\u001B[0;32m<ipython-input-10-b30655b60cbe>\u001B[0m in \u001B[0;36m<module>\u001B[0;34m\u001B[0m\n\u001B[1;32m      9\u001B[0m     \u001B[0mbatch_size\u001B[0m\u001B[0;34m=\u001B[0m\u001B[0;36m1024\u001B[0m\u001B[0;34m,\u001B[0m\u001B[0;34m\u001B[0m\u001B[0;34m\u001B[0m\u001B[0m\n\u001B[1;32m     10\u001B[0m     \u001B[0minit_std\u001B[0m\u001B[0;34m=\u001B[0m\u001B[0;36m0.001\u001B[0m\u001B[0;34m,\u001B[0m\u001B[0;34m\u001B[0m\u001B[0;34m\u001B[0m\u001B[0m\n\u001B[0;32m---> 11\u001B[0;31m     \u001B[0mreg\u001B[0m\u001B[0;34m=\u001B[0m\u001B[0;36m0.01\u001B[0m\u001B[0;34m,\u001B[0m\u001B[0;34m\u001B[0m\u001B[0;34m\u001B[0m\u001B[0m\n\u001B[0m\u001B[1;32m     12\u001B[0m )\n\u001B[1;32m     13\u001B[0m \u001B[0;31m# translate Y from {0,1} to {-10, 10}\u001B[0m\u001B[0;34m\u001B[0m\u001B[0;34m\u001B[0m\u001B[0;34m\u001B[0m\u001B[0m\n",
      "\u001B[0;32m~/code/tffm/tffm_tf2/models.py\u001B[0m in \u001B[0;36m__init__\u001B[0;34m(self, **init_params)\u001B[0m\n\u001B[1;32m    123\u001B[0m \u001B[0;34m\u001B[0m\u001B[0m\n\u001B[1;32m    124\u001B[0m                 \u001B[0minit_params\u001B[0m\u001B[0;34m[\u001B[0m\u001B[0;34m'loss_function'\u001B[0m\u001B[0;34m]\u001B[0m \u001B[0;34m=\u001B[0m \u001B[0mloss_mse\u001B[0m\u001B[0;34m\u001B[0m\u001B[0;34m\u001B[0m\u001B[0m\n\u001B[0;32m--> 125\u001B[0;31m                 \u001B[0mself\u001B[0m\u001B[0;34m.\u001B[0m\u001B[0minit_basemodel\u001B[0m\u001B[0;34m(\u001B[0m\u001B[0;34m**\u001B[0m\u001B[0minit_params\u001B[0m\u001B[0;34m)\u001B[0m\u001B[0;34m\u001B[0m\u001B[0;34m\u001B[0m\u001B[0m\n\u001B[0m\u001B[1;32m    126\u001B[0m \u001B[0;34m\u001B[0m\u001B[0m\n\u001B[1;32m    127\u001B[0m         \u001B[0;32mdef\u001B[0m \u001B[0mfit\u001B[0m\u001B[0;34m(\u001B[0m\u001B[0mself\u001B[0m\u001B[0;34m,\u001B[0m \u001B[0mX\u001B[0m\u001B[0;34m,\u001B[0m \u001B[0my\u001B[0m\u001B[0;34m,\u001B[0m \u001B[0msample_weight\u001B[0m\u001B[0;34m=\u001B[0m\u001B[0;32mNone\u001B[0m\u001B[0;34m,\u001B[0m \u001B[0mn_epochs\u001B[0m\u001B[0;34m=\u001B[0m\u001B[0;32mNone\u001B[0m\u001B[0;34m,\u001B[0m \u001B[0mshow_progress\u001B[0m\u001B[0;34m=\u001B[0m\u001B[0;32mFalse\u001B[0m\u001B[0;34m)\u001B[0m\u001B[0;34m:\u001B[0m\u001B[0;34m\u001B[0m\u001B[0;34m\u001B[0m\u001B[0m\n",
      "\u001B[0;31mAttributeError\u001B[0m: 'TFFMRegressor' object has no attribute 'init_basemodel'"
     ]
    }
   ],
   "source": [
    "from tffm_tf2 import TFFMRegressor\n",
    "from sklearn.metrics import mean_squared_error\n",
    "\n",
    "model = TFFMRegressor(\n",
    "    order=order, \n",
    "    rank=10, \n",
    "    optimizer=tf.keras.optimizers.Adam(learning_rate=0.00001),  \n",
    "    n_epochs=50, \n",
    "    batch_size=1024,\n",
    "    init_std=0.001,\n",
    "    reg=0.01,\n",
    ")\n",
    "# translate Y from {0,1} to {-10, 10}\n",
    "model.fit(X_tr_35, y_tr_35*20-10, show_progress=True)\n",
    "predictions = model.predict(X_te_sparse)\n",
    "print('[order={}] accuracy: {}'.format(order, accuracy_score(y_te, predictions > 0)))\n",
    "print('MSE: {}'.format(mean_squared_error(y_te*20-10, predictions)))\n",
    "model.destroy()"
   ]
  },
  {
   "cell_type": "markdown",
   "metadata": {},
   "source": [
    "# n_features/time complexity"
   ]
  },
  {
   "cell_type": "code",
   "execution_count": 11,
   "metadata": {},
   "outputs": [
    {
     "name": "stdout",
     "output_type": "stream",
     "text": [
      "Initialize logs, use: \n",
      "tensorboard --logdir=/Users/mikhail/std/repos/tffm/tmp/logs\n"
     ]
    },
    {
     "name": "stderr",
     "output_type": "stream",
     "text": [
      "100%|██████████| 10/10 [00:00<00:00, 10.79epoch/s]"
     ]
    },
    {
     "name": "stdout",
     "output_type": "stream",
     "text": [
      "[order=3] accuracy: 0.8767252195734002\n"
     ]
    },
    {
     "name": "stderr",
     "output_type": "stream",
     "text": [
      "\n"
     ]
    }
   ],
   "source": [
    "order = 3\n",
    "model = TFFMClassifier(\n",
    "    order=order, \n",
    "    rank=10, \n",
    "    optimizer=tf.train.AdamOptimizer(learning_rate=0.01), \n",
    "    n_epochs=10, \n",
    "    batch_size=-1,\n",
    "    init_std=0.001,\n",
    "    reg=0.001,\n",
    "    input_type='sparse',\n",
    "    log_dir='./tmp/logs',\n",
    "    verbose=1\n",
    ")\n",
    "model.fit(X_tr_sparse, y_tr, show_progress=True)\n",
    "predictions = model.predict(X_te_sparse)\n",
    "print('[order={}] accuracy: {}'.format(order, accuracy_score(y_te, predictions)))"
   ]
  },
  {
   "cell_type": "markdown",
   "metadata": {},
   "source": [
    "# Save/load example"
   ]
  },
  {
   "cell_type": "code",
   "execution_count": 12,
   "metadata": {},
   "outputs": [],
   "source": [
    "model.save_state('./tmp/state.tf')\n",
    "model.destroy()"
   ]
  },
  {
   "cell_type": "code",
   "execution_count": 13,
   "metadata": {},
   "outputs": [
    {
     "name": "stdout",
     "output_type": "stream",
     "text": [
      "Initialize logs, use: \n",
      "tensorboard --logdir=/Users/mikhail/std/repos/tffm/tmp/logs\n",
      "INFO:tensorflow:Restoring parameters from ./tmp/state.tf\n"
     ]
    }
   ],
   "source": [
    "model = TFFMClassifier(\n",
    "    order=3, \n",
    "    rank=10, \n",
    "    optimizer=tf.train.AdamOptimizer(learning_rate=0.01), \n",
    "    n_epochs=10, \n",
    "    batch_size=-1,\n",
    "    init_std=0.001,\n",
    "    reg=0.001,\n",
    "    input_type='sparse',\n",
    "    log_dir='./tmp/logs',\n",
    "    verbose=1\n",
    ")\n",
    "\n",
    "# internally model need to allocate memory before load previous weights,\n",
    "# so need to set num_features explicitly\n",
    "model.core.set_num_features(X_tr.shape[1])\n",
    "model.load_state('./tmp/state.tf')"
   ]
  },
  {
   "cell_type": "markdown",
   "metadata": {},
   "source": [
    "# Different optimizers"
   ]
  },
  {
   "cell_type": "code",
   "execution_count": 17,
   "metadata": {},
   "outputs": [
    {
     "data": {
      "image/png": "[encoded data removed]",
      "text/plain": [
       "<matplotlib.figure.Figure at 0x11a684e10>"
      ]
     },
     "metadata": {},
     "output_type": "display_data"
    }
   ],
   "source": [
    "for optim, title in [(tf.train.AdamOptimizer(learning_rate=0.001), 'Adam'), \n",
    "              (tf.train.FtrlOptimizer(0.01, l1_regularization_strength=0.01), 'FTRL')]:\n",
    "    acc = []\n",
    "    model = TFFMClassifier(\n",
    "        order=3, \n",
    "        rank=10, \n",
    "        optimizer=optim,\n",
    "        batch_size=1024,\n",
    "        init_std=0.001,\n",
    "        reg=0.1,\n",
    "        input_type='sparse',\n",
    "    )\n",
    "    n_epochs = 5\n",
    "    anchor_epochs = range(0, 200+1, n_epochs)\n",
    "    for _ in anchor_epochs:\n",
    "        # score result every 5 epochs\n",
    "        model.fit(X_tr_sparse, y_tr, n_epochs=n_epochs)\n",
    "        predictions = model.predict(X_te_sparse)\n",
    "        acc.append(accuracy_score(y_te, predictions))\n",
    "    plot(anchor_epochs, acc, label=title)\n",
    "    model.destroy()\n",
    "xlabel('n_epochs')\n",
    "ylabel('accuracy')\n",
    "legend()\n",
    "grid()"
   ]
  },
  {
   "cell_type": "markdown",
   "metadata": {
    "collapsed": true
   },
   "source": [
    "# Different regularization strategies"
   ]
  },
  {
   "cell_type": "code",
   "execution_count": 18,
   "metadata": {},
   "outputs": [
    {
     "name": "stdout",
     "output_type": "stream",
     "text": [
      "Dataset shape: (10625, 784)\n",
      "Non-zeros rate: 0.006023889555822329\n",
      "Classes balance: 0.46936470588235296 / 0.5306352941176471\n"
     ]
    }
   ],
   "source": [
    "X_all = np.vstack([\n",
    "    mnist_images[mnist_labels==3,:],\n",
    "    mnist_images[mnist_labels==5,:]\n",
    "])\n",
    "\n",
    "y_all = np.array([1]*n_three + [0]*n_five)\n",
    "\n",
    "# make it more sparse (sparseness is about 97%)\n",
    "X_all = X_all * (np.random.uniform(0, 1, X_all.shape) > 0.97)\n",
    "\n",
    "print('Dataset shape: {}'.format(X_all.shape))\n",
    "print('Non-zeros rate: {}'.format(np.mean(X_all != 0)))\n",
    "print('Classes balance: {} / {}'.format(np.mean(y_all==0), np.mean(y_all==1)))\n",
    "\n",
    "X_tr, X_te, y_tr, y_te = train_test_split(X_all, y_all, random_state=42, test_size=0.3)"
   ]
  },
  {
   "cell_type": "code",
   "execution_count": 19,
   "metadata": {},
   "outputs": [
    {
     "data": {
      "image/png": "[encoded data removed]",
      "text/plain": [
       "<matplotlib.figure.Figure at 0x11942ef60>"
      ]
     },
     "metadata": {},
     "output_type": "display_data"
    }
   ],
   "source": [
    "for use_reweight, title in [(False, 'no reweight reg'), (True, 'reweight reg')]:\n",
    "    acc = []\n",
    "    model = TFFMClassifier(\n",
    "        order=3, \n",
    "        rank=10, \n",
    "        optimizer=tf.train.AdamOptimizer(learning_rate=0.001),\n",
    "        batch_size=1024,\n",
    "        init_std=0.001,\n",
    "        reg=1.0,\n",
    "        input_type='sparse',\n",
    "        reweight_reg = use_reweight\n",
    "    )\n",
    "    n_epochs = 2\n",
    "    anchor_epochs = range(0, 20+1, n_epochs)\n",
    "    for _ in anchor_epochs:\n",
    "        # score result every 5 epochs\n",
    "        model.fit(X_tr_sparse, y_tr, n_epochs=n_epochs)\n",
    "        predictions = model.predict(X_te_sparse)\n",
    "        acc.append(accuracy_score(y_te, predictions))\n",
    "    plot(anchor_epochs, acc, label=title)\n",
    "    model.destroy()\n",
    "xlabel('n_epochs')\n",
    "ylabel('accuracy')\n",
    "legend(loc=4)\n",
    "grid()"
   ]
  },
  {
   "cell_type": "markdown",
   "metadata": {
    "collapsed": true
   },
   "source": [
    "# Weighted Loss Function\n",
    "\n",
    "When using `TFFMClassifier`, one can set the parameter `sample_weights` in order to \n",
    "\n",
    "1. Use a \"balanced\" weighting scheme, in which the weight applied to the positive class is $w_+ = n_- / n_+$.\n",
    "2. Prove a custom weight that is applied to every sample from the positive class.\n",
    "2. Prove arbitrary weights to be applied to each sample.\n",
    "\n",
    "We will demonstrate the first two approaches."
   ]
  },
  {
   "cell_type": "code",
   "execution_count": 20,
   "metadata": {},
   "outputs": [
    {
     "name": "stdout",
     "output_type": "stream",
     "text": [
      "Classes balance: 0.753 / 0.247\n",
      "Balanced positive weight is 3.045.\n"
     ]
    }
   ],
   "source": [
    "from sklearn.metrics import confusion_matrix\n",
    "\n",
    "# generate imbalanced data:\n",
    "X_imbalanced = X_all[4000:,:]\n",
    "y_imbalanced = y_all[4000:]\n",
    "\n",
    "print('Classes balance: {:.03f} / {:.03f}'.format(np.mean(y_imbalanced==0), \n",
    "                                                  np.mean(y_imbalanced==1)))\n",
    "\n",
    "print('Balanced positive weight is {:.03f}.'.format(np.mean(y_imbalanced==0)/np.mean(y_imbalanced==1)))\n",
    "\n",
    "X_tr, X_te, y_tr, y_te = train_test_split(X_imbalanced, y_imbalanced, random_state=42, test_size=0.3)"
   ]
  },
  {
   "cell_type": "code",
   "execution_count": 22,
   "metadata": {},
   "outputs": [
    {
     "name": "stderr",
     "output_type": "stream",
     "text": [
      "100%|██████████| 50/50 [00:02<00:00, 21.29epoch/s]"
     ]
    },
    {
     "name": "stdout",
     "output_type": "stream",
     "text": [
      "accuracy: 0.7494969818913481\n"
     ]
    },
    {
     "name": "stderr",
     "output_type": "stream",
     "text": [
      "\n"
     ]
    }
   ],
   "source": [
    "# use default weighting\n",
    "model = TFFMClassifier(\n",
    "    order=2,\n",
    "    rank=10, \n",
    "    optimizer=tf.train.AdamOptimizer(learning_rate=0.001), \n",
    "    n_epochs=50, \n",
    "    batch_size=1024,\n",
    "    init_std=0.001,\n",
    "    reg=0.01,\n",
    "    input_type='dense',\n",
    "    seed=42\n",
    ")\n",
    "model.fit(X_tr, y_tr, show_progress=True)\n",
    "predictions = model.predict(X_te)\n",
    "print('accuracy: {}'.format(accuracy_score(y_te, predictions)))\n",
    "model.destroy()  "
   ]
  },
  {
   "cell_type": "code",
   "execution_count": 23,
   "metadata": {},
   "outputs": [
    {
     "data": {
      "text/plain": [
       "array([[1413,   56],\n",
       "       [ 442,   77]])"
      ]
     },
     "execution_count": 23,
     "metadata": {},
     "output_type": "execute_result"
    }
   ],
   "source": [
    "confusion_matrix(y_te,predictions)"
   ]
  },
  {
   "cell_type": "markdown",
   "metadata": {},
   "source": [
    "Unweighted loss shows good performance on prevalent class, but poor performance on class with smaller representation"
   ]
  },
  {
   "cell_type": "code",
   "execution_count": 24,
   "metadata": {
    "scrolled": true
   },
   "outputs": [
    {
     "name": "stderr",
     "output_type": "stream",
     "text": [
      "100%|██████████| 50/50 [00:02<00:00, 19.58epoch/s]"
     ]
    },
    {
     "name": "stdout",
     "output_type": "stream",
     "text": [
      "accuracy: 0.7354124748490946\n"
     ]
    },
    {
     "name": "stderr",
     "output_type": "stream",
     "text": [
      "\n"
     ]
    }
   ],
   "source": [
    "# use balanced weighting\n",
    "model = TFFMClassifier(\n",
    "    order=2,\n",
    "    sample_weight='balanced',\n",
    "    rank=10, \n",
    "    optimizer=tf.train.AdamOptimizer(learning_rate=0.001), \n",
    "    n_epochs=50, \n",
    "    batch_size=1024,\n",
    "    init_std=0.001,\n",
    "    reg=0.01,\n",
    "    input_type='dense',\n",
    "    seed=42\n",
    ")\n",
    "model.fit(X_tr, y_tr, show_progress=True)\n",
    "predictions = model.predict(X_te)\n",
    "print('accuracy: {}'.format(accuracy_score(y_te, predictions)))\n",
    "model.destroy()"
   ]
  },
  {
   "cell_type": "code",
   "execution_count": 25,
   "metadata": {},
   "outputs": [
    {
     "data": {
      "text/plain": [
       "array([[1187,  282],\n",
       "       [ 244,  275]])"
      ]
     },
     "execution_count": 25,
     "metadata": {},
     "output_type": "execute_result"
    }
   ],
   "source": [
    "confusion_matrix(y_te,predictions)"
   ]
  },
  {
   "cell_type": "markdown",
   "metadata": {},
   "source": [
    "Performance in underrepresented class improved, at the cost of performance in prevalent class."
   ]
  },
  {
   "cell_type": "code",
   "execution_count": 26,
   "metadata": {
    "scrolled": false
   },
   "outputs": [
    {
     "name": "stderr",
     "output_type": "stream",
     "text": [
      "100%|██████████| 50/50 [00:02<00:00, 20.05epoch/s]"
     ]
    },
    {
     "name": "stdout",
     "output_type": "stream",
     "text": [
      "accuracy: 0.48893360160965793\n"
     ]
    },
    {
     "name": "stderr",
     "output_type": "stream",
     "text": [
      "\n"
     ]
    }
   ],
   "source": [
    "# use manully weighting for positive class\n",
    "model = TFFMClassifier(\n",
    "    order=2,\n",
    "    pos_class_weight=6.0,\n",
    "    rank=10, \n",
    "    optimizer=tf.train.AdamOptimizer(learning_rate=0.001), \n",
    "    n_epochs=50, \n",
    "    batch_size=1024,\n",
    "    init_std=0.001,\n",
    "    reg=0.01,\n",
    "    input_type='dense',\n",
    "    seed=42\n",
    ")\n",
    "model.fit(X_tr, y_tr, show_progress=True)\n",
    "predictions = model.predict(X_te)\n",
    "print('accuracy: {}'.format(accuracy_score(y_te, predictions)))\n",
    "model.destroy()  "
   ]
  },
  {
   "cell_type": "code",
   "execution_count": 27,
   "metadata": {},
   "outputs": [
    {
     "data": {
      "text/plain": [
       "array([[491, 978],\n",
       "       [ 38, 481]])"
      ]
     },
     "execution_count": 27,
     "metadata": {},
     "output_type": "execute_result"
    }
   ],
   "source": [
    "confusion_matrix(y_te,predictions)"
   ]
  },
  {
   "cell_type": "markdown",
   "metadata": {},
   "source": [
    "Here we've overdone it, but we're quite accurate on the underrepresented class. The limiting case will cause the classifier to put all point into the over-weighted class."
   ]
  }
 ],
 "metadata": {
  "anaconda-cloud": {},
  "kernelspec": {
   "display_name": "Python 3",
   "language": "python",
   "name": "python3"
  },
  "language_info": {
   "codemirror_mode": {
    "name": "ipython",
    "version": 3
   },
   "file_extension": ".py",
   "mimetype": "text/x-python",
   "name": "python",
   "nbconvert_exporter": "python",
   "pygments_lexer": "ipython3",
   "version": "3.7.6"
  }
 },
 "nbformat": 4,
 "nbformat_minor": 1
}